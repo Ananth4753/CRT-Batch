{
 "cells": [
  {
   "cell_type": "code",
   "execution_count": 4,
   "metadata": {},
   "outputs": [
    {
     "name": "stdout",
     "output_type": "stream",
     "text": [
      "PYTHON \n",
      "python \n"
     ]
    }
   ],
   "source": [
    "s=\"python \"\n",
    "print(s.upper())  #convert string to upper case\n",
    "print(s.lower())  #convert string to lower case"
   ]
  },
  {
   "cell_type": "code",
   "execution_count": 6,
   "metadata": {},
   "outputs": [
    {
     "name": "stdout",
     "output_type": "stream",
     "text": [
      "python \n",
      "True\n",
      "False\n"
     ]
    }
   ],
   "source": [
    "#string boolean methods\n",
    "print(s)\n",
    "print(s.islower())\n",
    "print(s.isupper())\n"
   ]
  },
  {
   "cell_type": "code",
   "execution_count": 9,
   "metadata": {},
   "outputs": [
    {
     "name": "stdout",
     "output_type": "stream",
     "text": [
      "True\n",
      "False\n"
     ]
    }
   ],
   "source": [
    "#is title\n",
    "s1=\"Python Programming\"\n",
    "s2=\"PYTHON\"\n",
    "print(s1.istitle())\n",
    "print(s2.istitle())"
   ]
  },
  {
   "cell_type": "code",
   "execution_count": 17,
   "metadata": {},
   "outputs": [
    {
     "name": "stdout",
     "output_type": "stream",
     "text": [
      "False\n",
      "True\n",
      "False\n",
      "False\n",
      "True\n"
     ]
    }
   ],
   "source": [
    "#is numeric and is alpha\n",
    "s3=\"Py123\"\n",
    "s4=\"12345\"\n",
    "s5=\"github\"\n",
    "print(s3.isnumeric())\n",
    "print(s4.isnumeric())\n",
    "print(s3.isalpha())\n",
    "print(s4.isalpha())\n",
    "print(s5.isalpha())"
   ]
  },
  {
   "cell_type": "code",
   "execution_count": 16,
   "metadata": {},
   "outputs": [
    {
     "name": "stdout",
     "output_type": "stream",
     "text": [
      "True\n",
      "False\n"
     ]
    }
   ],
   "source": [
    "#is space\n",
    "s=\" \"\n",
    "s1=\"\"\n",
    "print(s.isspace())\n",
    "print(s1.isspace())"
   ]
  },
  {
   "cell_type": "code",
   "execution_count": 31,
   "metadata": {},
   "outputs": [
    {
     "data": {
      "text/plain": [
       "[1, 8, 9, 7, 6]"
      ]
     },
     "execution_count": 31,
     "metadata": {},
     "output_type": "execute_result"
    }
   ],
   "source": [
    "#Function to convert digits in a number to list\n",
    "#input=18976\n",
    "#output=[1,8,9,7,6]\n",
    "def numberlistconversion(n):\n",
    "    li=[]\n",
    "    while n!=0:\n",
    "        r=n%10\n",
    "        li.append(r)\n",
    "        n=n//10\n",
    "    li.reverse()\n",
    "    return li\n",
    "l=numberlistconversion(18976)\n",
    "l"
   ]
  },
  {
   "cell_type": "code",
   "execution_count": 18,
   "metadata": {},
   "outputs": [
    {
     "data": {
      "text/plain": [
       "[1, 8, 9, 7, 6]"
      ]
     },
     "execution_count": 18,
     "metadata": {},
     "output_type": "execute_result"
    }
   ],
   "source": [
    "#simple method using map fuction\n",
    "n='18976'\n",
    "l=list(map(int,str(n)))\n",
    "l"
   ]
  },
  {
   "cell_type": "code",
   "execution_count": 33,
   "metadata": {},
   "outputs": [
    {
     "name": "stdout",
     "output_type": "stream",
     "text": [
      "enter number15\n",
      "1 3 5 15\n"
     ]
    }
   ],
   "source": [
    "#print factors of the given number\n",
    "def factors(n):\n",
    "    print(\"1\",end=\" \")\n",
    "    for i in range(2,n):\n",
    "        if(n%i==0):\n",
    "            print(i,end=\" \")\n",
    "    print(n)\n",
    "factors(n=int(input(\"enter number\")))"
   ]
  },
  {
   "cell_type": "code",
   "execution_count": 38,
   "metadata": {},
   "outputs": [
    {
     "name": "stdout",
     "output_type": "stream",
     "text": [
      "500\n",
      "520\n",
      "500 502 504 506 508 510 512 514 516 518 520 "
     ]
    }
   ],
   "source": [
    "#input:500 ,520\n",
    "#output:500,502,504,..........520\n",
    "def printrange(x,y):\n",
    "    for i in range(x,y+1,2):\n",
    "        print(i,end=\" \")\n",
    "printrange(x=int(input()),y=int(input()))"
   ]
  },
  {
   "cell_type": "code",
   "execution_count": 39,
   "metadata": {},
   "outputs": [
    {
     "data": {
      "text/plain": [
       "8"
      ]
     },
     "execution_count": 39,
     "metadata": {},
     "output_type": "execute_result"
    }
   ],
   "source": [
    "a=18462\n",
    "int(max(str(a)))"
   ]
  },
  {
   "cell_type": "code",
   "execution_count": 42,
   "metadata": {},
   "outputs": [
    {
     "data": {
      "text/plain": [
       "5"
      ]
     },
     "execution_count": 42,
     "metadata": {},
     "output_type": "execute_result"
    }
   ],
   "source": [
    "b='345'\n",
    "int(max(b))"
   ]
  },
  {
   "cell_type": "code",
   "execution_count": 46,
   "metadata": {},
   "outputs": [
    {
     "data": {
      "text/plain": [
       "['p', 'y', 't', 'h', 'o', 'n']"
      ]
     },
     "execution_count": 46,
     "metadata": {},
     "output_type": "execute_result"
    }
   ],
   "source": [
    "#input:\"python\"\n",
    "#output:['p','y','t','h','o','n']\n",
    "list(\"python\")"
   ]
  },
  {
   "cell_type": "code",
   "execution_count": 6,
   "metadata": {},
   "outputs": [
    {
     "name": "stdout",
     "output_type": "stream",
     "text": [
      "enter a number145\n",
      "strong number\n"
     ]
    }
   ],
   "source": [
    "#strong number program\n",
    "def fact(n):\n",
    "    f=1\n",
    "    for i in range(2,n+1):\n",
    "        f=f*i\n",
    "    return f\n",
    "def strong(n):\n",
    "    sum=0\n",
    "    for i in n:\n",
    "        sum=sum+fact(int(i))\n",
    "    if(sum==int(n)):\n",
    "        print(\"strong number\")\n",
    "    else:\n",
    "        print(\"not a strong number\")\n",
    "n=input(\"enter a number\")\n",
    "strong(n)"
   ]
  },
  {
   "cell_type": "code",
   "execution_count": null,
   "metadata": {},
   "outputs": [],
   "source": []
  }
 ],
 "metadata": {
  "kernelspec": {
   "display_name": "Python 3",
   "language": "python",
   "name": "python3"
  },
  "language_info": {
   "codemirror_mode": {
    "name": "ipython",
    "version": 3
   },
   "file_extension": ".py",
   "mimetype": "text/x-python",
   "name": "python",
   "nbconvert_exporter": "python",
   "pygments_lexer": "ipython3",
   "version": "3.7.4"
  }
 },
 "nbformat": 4,
 "nbformat_minor": 2
}
